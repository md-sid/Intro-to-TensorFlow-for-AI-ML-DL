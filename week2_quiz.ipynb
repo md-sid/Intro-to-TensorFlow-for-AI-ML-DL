{
 "cells": [
  {
   "cell_type": "markdown",
   "id": "694cf796",
   "metadata": {},
   "source": [
    "1. What’s the name of the dataset of Fashion images used in this week’s code?\n",
    "**Answer** Fashion MNIST\n",
    "\n",
    "2. What do the above mentioned Images look like?\n",
    "\n",
    "**Answer** 28x28 Greyscale\n",
    "\n",
    "3. How many images are in the Fashion MNIST dataset?\n",
    "**Answer** 70,000\n",
    "\n",
    "4. Why are there 10 output neurons?\n",
    "**Answer** There are 10 different labels\n",
    "\n",
    "5. What does Relu do?\n",
    "**Answer** It only returns x if x is greater than zero\n",
    "\n",
    "6. Why do you split data into training and test sets?\n",
    "**Answer** To test a network with previously unseen data\n",
    "\n",
    "7. What method gets called when an epoch finishes?\n",
    "**Amswer** on_epoch_end\n",
    "\n",
    "8. What parameter to you set in your fit function to tell it to use callbacks?\n",
    "**Answer** callbacks= "
   ]
  }
 ],
 "metadata": {
  "kernelspec": {
   "display_name": "Python 3 (ipykernel)",
   "language": "python",
   "name": "python3"
  },
  "language_info": {
   "codemirror_mode": {
    "name": "ipython",
    "version": 3
   },
   "file_extension": ".py",
   "mimetype": "text/x-python",
   "name": "python",
   "nbconvert_exporter": "python",
   "pygments_lexer": "ipython3",
   "version": "3.8.5"
  }
 },
 "nbformat": 4,
 "nbformat_minor": 5
}
