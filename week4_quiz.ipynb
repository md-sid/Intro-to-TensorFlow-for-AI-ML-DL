{
 "cells": [
  {
   "cell_type": "markdown",
   "id": "4ee610ca",
   "metadata": {},
   "source": [
    "1. Using Image Generator, how do you label images?\n",
    "**Answer** It’s based on the directory the image is contained in\n",
    "\n",
    "2. What method on the Image Generator is used to normalize the image?\n",
    "**Answer** rescale\n",
    "\n",
    "3. How did we specify the training size for the images?\n",
    "**Answer** The target_size parameter on the training generator\n",
    "\n",
    "4. When we specify the input_shape to be (300, 300, 3), what does that mean?\n",
    "**Answer** Every Image will be 300x300 pixels, with 3 bytes to define color\n",
    "\n",
    "5. If your training data is close to 1.000 accuracy, but your validation data isn’t, what’s the risk here?\n",
    "**Answer** You’re overfitting on your training data\n",
    "\n",
    "6. Convolutional Neural Networks are better for classifying images like horses and humans because:\n",
    "**Answer** In these images, the features may be in different parts of the frame\n",
    "**Answer** There’s a wide variety of humans\n",
    "**Answer** There’s a wide variety of horses\n",
    "\n",
    "7. After reducing the size of the images, the training results were different. Why?\n",
    "**Answer** We removed some convolutions to handle the smaller images"
   ]
  }
 ],
 "metadata": {
  "kernelspec": {
   "display_name": "Python 3 (ipykernel)",
   "language": "python",
   "name": "python3"
  },
  "language_info": {
   "codemirror_mode": {
    "name": "ipython",
    "version": 3
   },
   "file_extension": ".py",
   "mimetype": "text/x-python",
   "name": "python",
   "nbconvert_exporter": "python",
   "pygments_lexer": "ipython3",
   "version": "3.9.7"
  }
 },
 "nbformat": 4,
 "nbformat_minor": 5
}
