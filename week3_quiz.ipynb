{
 "cells": [
  {
   "cell_type": "markdown",
   "id": "82918942",
   "metadata": {},
   "source": [
    "1. What is a Convolution?\n",
    "**Answer** A technique to isolate features in images\n",
    "\n",
    "2. What is a Pooling?\n",
    "**Answer** A technique to reduce the information in an image while maintaining features\n",
    "\n",
    "3. How do Convolutions improve image recognition?\n",
    "**Answer** They isolate features in images\n",
    "\n",
    "4. After passing a 3x3 filter over a 28x28 image, how big will the output be?\n",
    "**Answer** 26x26\n",
    "\n",
    "5. After max pooling a 26x26 image with a 2x2 filter, how big will the output be?\n",
    "**Answer** 13x13\n",
    "\n",
    "6. Applying Convolutions on top of our Deep neural network will make training:\n",
    "**Answer** It depends on many factors. It might make your training faster or slower, and a poorly designed Convolutional layer may even be less efficient than a plain DNN!"
   ]
  }
 ],
 "metadata": {
  "kernelspec": {
   "display_name": "Python 3 (ipykernel)",
   "language": "python",
   "name": "python3"
  },
  "language_info": {
   "codemirror_mode": {
    "name": "ipython",
    "version": 3
   },
   "file_extension": ".py",
   "mimetype": "text/x-python",
   "name": "python",
   "nbconvert_exporter": "python",
   "pygments_lexer": "ipython3",
   "version": "3.8.5"
  }
 },
 "nbformat": 4,
 "nbformat_minor": 5
}
