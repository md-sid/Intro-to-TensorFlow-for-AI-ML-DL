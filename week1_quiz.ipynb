{
 "cells": [
  {
   "cell_type": "markdown",
   "id": "7c2002bf",
   "metadata": {},
   "source": [
    "1. The diagram for traditional programming had Rules and Data In, but what came out?\n",
    "**Answer** Answers\n",
    "\n",
    "2. The diagram for Machine Learning had Answers and Data In, but what came out?\n",
    "\n",
    "**Answer** Rules\n",
    "\n",
    "3. When I tell a computer what the data represents (i.e. this data is for walking, this data is for running), what is that process called?\n",
    "**Answer** Labelling the Data\n",
    "\n",
    "4. What is a Dense?\n",
    "**Answer** A layer of connected neurons\n",
    "\n",
    "5. What does a Loss function do?\n",
    "**Answer** Measures how good the current ‘guess’ is\n",
    "\n",
    "6. What does the optimizer do?\n",
    "**Answer** Generates a new and improved guess\n",
    "\n",
    "7. What is Convergence?\n",
    "**Amswer** The process of getting very close to the correct answer\n",
    "\n",
    "8. What does model.fit do?\n",
    "**Answer** It trains the neural network to fit one set of values to another"
   ]
  }
 ],
 "metadata": {
  "kernelspec": {
   "display_name": "Python 3 (ipykernel)",
   "language": "python",
   "name": "python3"
  },
  "language_info": {
   "codemirror_mode": {
    "name": "ipython",
    "version": 3
   },
   "file_extension": ".py",
   "mimetype": "text/x-python",
   "name": "python",
   "nbconvert_exporter": "python",
   "pygments_lexer": "ipython3",
   "version": "3.8.5"
  }
 },
 "nbformat": 4,
 "nbformat_minor": 5
}
